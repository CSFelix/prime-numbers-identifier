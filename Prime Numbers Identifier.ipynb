{
 "cells": [
  {
   "cell_type": "markdown",
   "id": "0cb8757f-576c-406a-b5a9-656f2f1b4f5f",
   "metadata": {},
   "source": [
    "<h2 align=\"center\">🔢 Prime Numbers Identifier</h2>\n",
    "<br />\n",
    "\n",
    "<i><center>Let's dive into this interesting world</center></i>\n",
    "\n",
    "<br />\n",
    "\n",
    "👋 Hello guys, today we will go into an advanced math topic: **Prime Numbers**. Our task here is to understand what they are, their importance and usages in real-life, their characteristics and create Python Codes to figure out whether a number is prime or not using *Riemann Hypothesis* and *Machine/Deep Learning Algorithms*."
   ]
  },
  {
   "cell_type": "markdown",
   "id": "c656f6a2-29f1-4120-9090-4c0f5e2013e4",
   "metadata": {},
   "source": [
    "----\n",
    "\n",
    "<h2 id='problem-description'>📝 Problem Description</h2>\n",
    "\n",
    "<b>- Characteristics</b>\n",
    "\n",
    "`Prime Numbers` are especific natural numbers that cannot be divised by other natural ones, but itself and 1. Natural numbers are those ones that are positives and integers, that is, fall into the range from 1 to positive infinite. And you may be wondering: \"*Yeah, yeah, I learned about them on school. So what? What do they have that make them so special?*\". Well, let's go to the explanation!\n",
    "\n",
    "You probably have ever heard from someone or read on the internet that you can do anything with your computer, especially if you know how to program. I am afraid, but I have bad news: That's *\"bullshit\"*! To a problem be considered possible to be solved by computers, it has to follow two conditions: 1) a pattern to solve the problem must exist and be possible to be implemented with a computer; and 2) the implementation should solve it in a considerable period of time using a considerable process cost. \n",
    "\n",
    "In Computer Science there are the **Nondeterministic Polynomial Problems (*NPs*)**, they are problems that does not follow one or both of the previous conditions, and guess what? Identifying `whether a number is prime or not` is one of them - just for curiosity, all NP problems are listed here: [List of Unsolved Problems in Mathematics](https://en.wikipedia.org/wiki/List_of_unsolved_problems_in_mathematics).\n",
    "\n",
    "Guessing whether 5, 8, 80 and 987 are primes or not is a easy task for a computer, but when the number of digits increases, it becomes a tough task, demanding more time and process cost to solve it. For instance, consider the number 983,129,319,128,349,245,423,213,643,369,126,335,654,234,126,324,363, quite a big one, right? This one would take years to be identified as prime or non-prime by a computer.\n",
    "\n",
    "<br />\n",
    "\n",
    "<figure>\n",
    "    <img src=\"https://interestingengineering.com/_next/image?url=https%3A%2F%2Fimages.interestingengineering.com%2F1200x675%2Ffilters%3Aformat(webp)%2Fimages%2FNOVEMBER%2Fprime_numbers.jpg&w=1920&q=75\" alt=\"An image containing random numbers\" />\n",
    "    <figcaption>Fig. 1 - Numbers. <a href=\"https://interestingengineering.com/science/the-incredible-importance-of-prime-numbers-in-daily-life\" target=\"_blank\"><b>Unacademy</b><sup>©</sup></a></figcaption>\n",
    "</figure>\n",
    "\n",
    "<br />\n",
    "\n",
    "----\n",
    "\n",
    "<b>- Cyber Security</b>\n",
    "\n",
    "Having this in mind, Security Engineers chosen the Prime Numbers to be the base of Cyber Security Cyphers, such as `Hash Tables` and `Rivest–Shamir–Adleman (RSA) Algorithm`. In `RSA`, two large prime numbers are multiplied to result in a huge number to generate the `public and private keys` that will be used to encrypt and decrypt messages respectively. If a computer be able to decompose this huge number, the machine would be able to get the prime numbers that generated it and then, calculate the `private key` and decript any message encrypted by its public key.\n",
    "\n",
    "If this becomes possible, the cyber-security in general would be in chaos. Imagine hackers getting access to your private messages and bank accounts. Now think bigger, picture hackers getting access to government databases and stealing and encrypting critical datas. The world would be in collapse!!\n",
    "\n",
    "----\n",
    "\n",
    "<b>- Riemann's Hypothesis</b>\n",
    "\n",
    "`Riemann's Hypothesis` is a Hypothesis Equation that tells if the the number is prime or not. To our better understanding, consider the spiral below:\n",
    "\n",
    "<br />\n",
    "\n",
    "<figure>\n",
    "    <img src=\"http://www.naturalnumbers.org/archspiralrnd.png\" alt=\"Archimedean Spiral\" />\n",
    "    <figcaption>Fig. 2 - Archimedean Spiral. <a href=\"http://www.naturalnumbers.org/sparticle.html\" target=\"_blank\"><b>Michael M. Ross at naturalnumbers.org</b>©</a></figcaption>\n",
    "</figure>\n",
    "\n",
    "<br />\n",
    "\n",
    "Now, let's fill the spiral line with numbers from 0 to infinite positive starting at the center.\n",
    "\n",
    "<br />\n",
    "\n",
    "<figure>\n",
    "    <img src=\"http://www.naturalnumbers.org/numberline.png\" alt=\"Archimedean Spiral with numbers\" />\n",
    "    <figcaption>Fig. 3 - Archimedean Spiral with numbers. <a href=\"http://www.naturalnumbers.org/sparticle.html\" target=\"_blank\"><b>Michael M. Ross at naturalnumbers.org</b>©</a></figcaption>\n",
    "</figure>\n",
    "\n",
    "<br />\n",
    "\n",
    "Identifying the `counterclockwise`, that is, the positions where a [perfect square](https://en.wikipedia.org/wiki/Golden_spiral \"Golden spiral\") is formed, we'll realize that these positions are always in the east side - `1, 4, 9...`:\n",
    "\n",
    "<br />\n",
    "\n",
    "<figure>\n",
    "    <img src=\"http://www.naturalnumbers.org/spiraldirection.png\" alt=\"Archimedean Spiral counterclockwises\" />\n",
    "    <figcaption>Fig. 4 - Archimedean Spiral counterclockwises. <a href=\"http://www.naturalnumbers.org/sparticle.html\" target=\"_blank\"><b>Michael M. Ross at naturalnumbers.org</b>©</a></figcaption>\n",
    "</figure>\n",
    "\n",
    "<br />\n",
    "\n",
    "And, after calculating the `Spiral's Product Curves`, we'll notice that all results corresponds to **Prime Numbers Positions (*Darkest Dots*)**:\n",
    "\n",
    "<br />\n",
    "\n",
    "<figure>\n",
    "    <img src=\"http://www.naturalnumbers.org/numberdots.png\" alt=\"Archimedean Spiral's Product Curves\" />\n",
    "    <figcaption>Fig. 5 - Archimedean Spiral's Product Curves. <a href=\"http://www.naturalnumbers.org/sparticle.html\" target=\"_blank\"><b>Michael M. Ross at naturalnumbers.org</b>©</a></figcaption>\n",
    "</figure>\n",
    "\n",
    "<br />\n",
    "\n",
    "As more products we calculate, as more prime numbers we will find; and tracing a sequential line on each dot position, we'll get another perfect spiral!\n",
    "\n",
    "<br />\n",
    "\n",
    "<figure>\n",
    "    <img src=\"http://www.naturalnumbers.org/p+41.png\" alt=\"Archimedean Spiral's Product Curves Lined\" />\n",
    "    <figcaption>Fig. 6 - Archimedean Spiral's Product Curves Lined. <a href=\"http://www.naturalnumbers.org/sparticle.html\" target=\"_blank\"><b>Michael M. Ross at naturalnumbers.org</b>©</a></figcaption>\n",
    "</figure>\n",
    "\n",
    "<br />\n",
    "\n",
    "Taking this into account, Riemann Hypothesis gives an equation to calculate if the dot position of a given number fits a prime number dot in an *Archimedean Spiral*.\n",
    "\n",
    "```python\n",
    "zeta(s) = sum(1/n**s) # being n from 1 to positive infinite\n",
    "```\n",
    "\n",
    "$$\n",
    "\\zeta(s) = \\sum_{n=1}^{\\infty} \\frac{1}{n^s}\n",
    "$$\n",
    "\n",
    "Even though this equation is the closest one to call as a pattern to identify prime numbers and working out for the first thousand ones, we cannot say that it is 100% correct since we cannot test it out to all existent numbers!"
   ]
  },
  {
   "cell_type": "markdown",
   "id": "a42ba568-ee8b-4d95-a8a7-7fba910b4151",
   "metadata": {},
   "source": [
    "----\n",
    "\n",
    "<h2 id=\"files-description\">📁 Files Description</h2>\n",
    "\n",
    "> **first_million_prime_numbers.csv and first_million_prime_numbers.parquet** - files containing the first million prime numbers.\n",
    "\n",
    "> **natural_numbers.csv and natural_numbers.parquet** - files containing the numbers from one to the first million prime number.\n",
    "\n",
    "\n",
    "<br />\n",
    "\n",
    "The `.parquet` files are more suited for large datasets. In order to don't take a big section explaining the differences between CSV and Parquet files, here is a cheat sheet for you:\n",
    "\n",
    "<br />\n",
    "\n",
    "<figure>\n",
    "    <img src=\"https://miro.medium.com/v2/resize:fit:828/1*lPfVDKtBBsZddmYP6fWeeA.gif\" alt=\"Comparison between CSV, Parquet and JSON Files\" />\n",
    "    <figcaption>Fig. 7 - Comparison between CSV, Parquet and JSON Files. Even though Parquet files are harder to be read, they are more suitable for larger and complexes datasets. Also, you can read this type of files using any Apache tools, such as `Spark`, `Hadoop` and `Hive`. <a href=https://weber-stephen.medium.com/csv-vs-parquet-vs-json-for-data-science-cf3733175176\"\" target=\"_blank\"><b>Weber Stephen at Medium</b><sup>©</sup></a></figcaption>\n",
    "</figure>\n",
    "\n",
    "<br />"
   ]
  },
  {
   "cell_type": "markdown",
   "id": "3deef208-db57-412a-854b-fcea7172820e",
   "metadata": {},
   "source": [
    "----\n",
    "\n",
    "<h2 id=\"features\">❓ Features</h2>\n",
    "\n",
    "> **Rank** - prime number index;\n",
    "\n",
    "> **Num** - number;\n",
    "\n",
    "> **Interval** - interval between the current and the previous prime number."
   ]
  },
  {
   "cell_type": "markdown",
   "id": "70567393-cc07-488d-b87c-c9f87bbc6a0d",
   "metadata": {},
   "source": [
    "----\n",
    "\n",
    "<h2 id=\"target\">🌟 Target</h2>\n",
    "\n",
    "> **Is Prime** - tells whether a number is prime (*True*) or not (*False*).\n",
    "\n",
    "<table>\n",
    "    <tr>\n",
    "        <th>Is Prime</th>\n",
    "        <th>Meaning</th>\n",
    "    </tr>\n",
    "    <tr>\n",
    "        <td>True</td>\n",
    "        <td>Number is prime</td>\n",
    "    </tr>\n",
    "    <tr>\n",
    "        <td>False</td>\n",
    "        <td>Number is not prime</td>\n",
    "    </tr>\n",
    "</table>"
   ]
  },
  {
   "cell_type": "markdown",
   "id": "a8894d02-a2ee-4147-81a2-37249eee1761",
   "metadata": {},
   "source": [
    "----\n",
    "\n",
    "<h2 id=\"metric\">📏 Metric</h2>\n",
    "\n",
    "About the metrics, we will apply different ones to each solution.\n",
    "\n",
    "For `Riemann Hypothesis` and the `Machine Learning Algorithm`, we will use `Classification Accuracy`; whereas for the `Deep Learning Model` we will use `Binary Accuracy` with `Binary Cross-Entropy` Loss Function. Let's see an explanation for each one.\n",
    "\n",
    "----\n",
    "\n",
    "<b>- Classification Accuracy</b>\n",
    "\n",
    "This metric takes four types of results to evaluate the model:\n",
    "\n",
    "<br />\n",
    "\n",
    "> **True Positive (TP)** - the model predicted true and the real outcome is true; ✔️\n",
    "\n",
    "> **True Negative (TN)** - the model predicted false and the real outcome is false; ✔️\n",
    "\n",
    "> **False Positive (FP)** - the predicted true and the real outcome is false; ❌\n",
    "\n",
    "> **False Negative (FN)** - the model predicted false and the real outcome is true. ❌\n",
    "\n",
    "<br />\n",
    "\n",
    "With this in mind, Classification Accuracy takes the sum of `TP` and `TN` and divides by the sum between the four types of outcomes. The result will be the evaluation value.\n",
    "\n",
    "```python\n",
    "accuracy = (TP + TN) / (TP + TN + FP + FN)\n",
    "```\n",
    "\n",
    "$$\n",
    "\\text{accuracy} = \\frac{{\\text{TP} + \\text{TN}}}{{\\text{TP} + \\text{TN} + \\text{FP} + \\text{FN}}}\n",
    "$$\n",
    "\n",
    "<br />\n",
    "Even though a good accuracy score varies for each problem case, 95% of accuracy is quite perfect to validate models for the majority of problems!!\n",
    "\n",
    "----\n",
    "\n",
    "<b>- Binary Accuracy and Binary Cross-Entropy</b>\n",
    "\n",
    "Since Deep Learning Models uses *Stocastic Descendent Gradients (SGDs)* to adjust the weights and bias, it needs a *Loss Function* that changes smoothly, however, as far as *Classification Accuracy* is a ratio of counts, it changes in jumps - becoming not suited for Deep Learning Evaluation and this is when `Binary Accuracy and Cross-Entropy` comes in action!!\n",
    "\n",
    "The figure below shows the changes of the model's losses for each possible accuracy. Realize that the changes are smoothly and not in jumps and, as higher the accuracy as lower the loss.\n",
    "\n",
    "<br />\n",
    "\n",
    "<figure>\n",
    "    <img src=\"https://storage.googleapis.com/kaggle-media/learn/images/DwVV9bR.png\" alt=\"Line Plot - Loss x Predicted Probability of Correct Class (Accuracy)\" />\n",
    "    <figcaption>Fig. 8 - Line Plot of Loss by Predicted Probability of Correct Class (Accuracy). <a href=\"https://www.kaggle.com/code/ryanholbrook/binary-classification\" target=\"_blank\"><b>Kaggle</b><sup>©</sup></a></figcaption>\n",
    "</figure>\n",
    "\n",
    "<br />\n",
    "\n",
    "Its equation is given as below:\n",
    "\n",
    "```python\n",
    "Hp(q) = -1 * (1/n) * sum(y * log(p(y)) + (1 - y) * log(1 - p(y)))\n",
    "```\n",
    "\n",
    "$$\n",
    "H_p(q) = -\\frac{1}{n} \\times \\sum_{i=1}^{n} \\left( y_i \\times \\log(p(y_i)) + (1 - y_i) \\times \\log(1 - p(y_i)) \\right)\n",
    "$$\n",
    "\n",
    "<br />\n",
    "\n",
    "<div class=\"alert alert-block alert-info\">\n",
    "    <b>Where:</b>\n",
    "    <br /><br />\n",
    "    <p>\n",
    "        - n >> number of outcomes;<br />\n",
    "        - y >> predicted outcome (1 for True and 0 for False);<br />\n",
    "        - log(p(y)) >> log probability for y = 1 (True);<br />\n",
    "        - log(1 - p(y)) >> log probability for y = 0 (False).\n",
    "    </p>\n",
    "</div>"
   ]
  },
  {
   "cell_type": "markdown",
   "id": "89bd0dd5-cc05-447c-8f44-22fefd1286b2",
   "metadata": {},
   "source": [
    "----\n",
    "\n",
    "<h2 id=\"limitations\">🛑 Limitations</h2>\n",
    "\n",
    "As far as the dataset just contains the firs million prime numbers, we cannot guarantee that the model will be able to identify all possible prime numbers correctly, since our dataset does not contain all existent ones listed!!\n",
    "\n",
    "<div class=\"alert alert-block alert-info\">\n",
    "    <b>Riemann Hypothesis:</b> Realize that the limitation we got here is the same one present in Riemann Hypothesis.\n",
    "</div>"
   ]
  },
  {
   "cell_type": "markdown",
   "id": "9b1d776d-78d4-426a-885d-ed6be9b44e68",
   "metadata": {},
   "source": [
    "----\n",
    "\n",
    "<h2 id=\"goals\">🎯 Goals</h2>\n",
    "\n",
    "> **Goal 1** - create `natural_numbers.csv` and `natural_numbers.parquet` files to store all numbers from 1 to the first million prime;\n",
    "\n",
    "> **Goal 2** - implement `Riemann Hypothesis` without Machine Learning Algorithm;\n",
    "\n",
    "> **Goal 3** - implement `Machine Learning Algorithms` to classify a given number into prime and non-prime;\n",
    "\n",
    "> **Goal 4** - implement a `Deep Learning Algorithm` to classify a given number into prime and non-prime;\n",
    "\n",
    "> **Goal 5** - do the `Machine/Deep Learning Explainability` with the best model;\n",
    "\n",
    "> **Goal 6** - export the best Machine Learning Model and the Deep Learning Model into `Pickles File Format`."
   ]
  },
  {
   "cell_type": "markdown",
   "id": "ecd9b607-5095-49ab-84d5-55428c98f908",
   "metadata": {},
   "source": [
    "----\n",
    "\n",
    "<h2 id=\"setup\">⚙️ Setup</h2>\n",
    "\n",
    "> Tools\n",
    "\n",
    "```\n",
    "- Python 3.10.x version or later;\n",
    "- Jupyter Lab;\n",
    "- Jupyter Notebook.\n",
    "```\n",
    "\n",
    "\n",
    "----\n",
    "\n",
    "> Libraries\n",
    "\n",
    "```\n",
    "- Pandas, Numpy, Matplotlib, Seaborn and Scipy;\n",
    "- Pandas Profiling and Lux API;\n",
    "- Apache Spark and Java JDK version 8 or later (if you wanna use Apache Spark rather Pandas);\n",
    "- Scikit Learn, Tensor Flow and Keras.\n",
    "```"
   ]
  },
  {
   "cell_type": "markdown",
   "id": "4038c815-24ae-40e1-9c55-279b0fe62091",
   "metadata": {},
   "source": [
    "----\n",
    "\n",
    "<h2 id=\"aknowledgements\">🎉 Acknowledgements</h2>\n",
    "\n",
    "> Dataset `first_million_prime_numbers` provided by <a href=\"http://www.naturalnumbers.org/primes.html\" target=\"_blank\"><b>Michael M. Ross</b> in <i>naturalnumbers.org</i></a>."
   ]
  },
  {
   "cell_type": "markdown",
   "id": "a7e0d98e-d8be-46b2-b723-4cb74831093e",
   "metadata": {},
   "source": [
    "----\n",
    "\n",
    "<h2 id=\"environment\">🧰 Environment</h2>\n",
    "\n",
    "To setup `Lux API`, follow the steps below:\n",
    "\n",
    "<div class=\"alert alert-block alert-info\">\n",
    "    <p>- Installing on Jupyter Notebook and Jupyter Lab: <kbd>pip install lux-api</kbd></p>\n",
    "    <p>- Activating Extension for Jupyter Notebook: <kbd>jupyter nbextension install --py luxwidget</kbd> and <kbd>jupyter nbextension enable --py luxwidget</kbd></p>\n",
    "    <p>- Activating Extension for Jupyter Lab: <kbd>jupyter labextension install @jupyter-widgets/jupyterlab-manager</kbd> and <kbd>jupyter labextension install luxwidget</kbd></p>\n",
    "</div>"
   ]
  },
  {
   "cell_type": "code",
   "execution_count": 1,
   "id": "604bc8cb-5b13-4d3a-a3c4-f081d003e035",
   "metadata": {},
   "outputs": [],
   "source": [
    "# ---- Libraries ----\n",
    "import pandas as pd # pip install pandas\n",
    "import scipy.stats as stats # pip install scipy\n",
    "import numpy as np # pip install numpy\n",
    "import matplotlib.pyplot as plt # pip install matplotlib\n",
    "import seaborn as sns # pip install seaborn\n",
    "\n",
    "# import lux # pip install lux-api >> this one will probably returns MemoryError, if that's the case, you can let this line commented\n",
    "# import pandas_profiling # pip install pandas-profiling >> deprecated\n",
    "import ydata_profiling # pip install pandas-profiling\n",
    "\n",
    "# ---- Constants ----\n",
    "SEED = (5466)\n",
    "PRIME_NUMBERS_FILE_PATH_CSV = (\"./dataset/first_million_prime_numbers.csv\")\n",
    "PRIME_NUMBERS_FILE_PATH_PARQUET = (\"./dataset/first_million_prime_numbers.parquet\")\n",
    "NATURAL_NUMBERS_FILE_PATH_CSV = (\"./dataset/natural_numbers.csv\")\n",
    "NATURAL_NUMBERS_FILE_PATH_PARQUET = (\"./dataset/natural_numbers.parquet\")\n",
    "\n",
    "\n",
    "# ---- Seeds ----\n",
    "np.random.seed(seed = SEED) # scipy uses the same generator as numpy, so setting seed on numpy will automatically set on scipy too!\n",
    "\n",
    "# ---- Others ----\n",
    "sns.set_style('whitegrid')\n",
    "plt.rc('figure', autolayout=True)\n",
    "plt.rc('axes', labelweight='bold', labelsize='large', titleweight='bold', titlesize=18, titlepad=10)\n",
    "\n",
    "pd.set_option('display.max_rows', 50)\n",
    "pd.set_option('display.max_columns', 3)"
   ]
  },
  {
   "cell_type": "markdown",
   "id": "d4ed7052-af21-47d6-98c8-3146dc785753",
   "metadata": {},
   "source": [
    "----\n",
    "\n",
    "<h2 id=\"descriptive-analysis\">🔍 Descriptive Analysis</h2>"
   ]
  },
  {
   "cell_type": "code",
   "execution_count": 2,
   "id": "94592f7f-dedc-4204-ae1d-fcf99c9a5be4",
   "metadata": {},
   "outputs": [
    {
     "name": "stdout",
     "output_type": "stream",
     "text": [
      "# of Observations: 999999\n",
      "# of Features: 2 (Index(['Num', 'Interval'], dtype='object'))\n",
      "----\n"
     ]
    },
    {
     "data": {
      "text/html": [
       "<div>\n",
       "<style scoped>\n",
       "    .dataframe tbody tr th:only-of-type {\n",
       "        vertical-align: middle;\n",
       "    }\n",
       "\n",
       "    .dataframe tbody tr th {\n",
       "        vertical-align: top;\n",
       "    }\n",
       "\n",
       "    .dataframe thead th {\n",
       "        text-align: right;\n",
       "    }\n",
       "</style>\n",
       "<table border=\"1\" class=\"dataframe\">\n",
       "  <thead>\n",
       "    <tr style=\"text-align: right;\">\n",
       "      <th></th>\n",
       "      <th>Num</th>\n",
       "      <th>Interval</th>\n",
       "    </tr>\n",
       "    <tr>\n",
       "      <th>Rank</th>\n",
       "      <th></th>\n",
       "      <th></th>\n",
       "    </tr>\n",
       "  </thead>\n",
       "  <tbody>\n",
       "    <tr>\n",
       "      <th>1</th>\n",
       "      <td>2</td>\n",
       "      <td>2</td>\n",
       "    </tr>\n",
       "    <tr>\n",
       "      <th>2</th>\n",
       "      <td>3</td>\n",
       "      <td>1</td>\n",
       "    </tr>\n",
       "    <tr>\n",
       "      <th>3</th>\n",
       "      <td>5</td>\n",
       "      <td>2</td>\n",
       "    </tr>\n",
       "    <tr>\n",
       "      <th>4</th>\n",
       "      <td>7</td>\n",
       "      <td>2</td>\n",
       "    </tr>\n",
       "    <tr>\n",
       "      <th>5</th>\n",
       "      <td>11</td>\n",
       "      <td>4</td>\n",
       "    </tr>\n",
       "    <tr>\n",
       "      <th>...</th>\n",
       "      <td>...</td>\n",
       "      <td>...</td>\n",
       "    </tr>\n",
       "    <tr>\n",
       "      <th>999995</th>\n",
       "      <td>15485807</td>\n",
       "      <td>6</td>\n",
       "    </tr>\n",
       "    <tr>\n",
       "      <th>999996</th>\n",
       "      <td>15485837</td>\n",
       "      <td>30</td>\n",
       "    </tr>\n",
       "    <tr>\n",
       "      <th>999997</th>\n",
       "      <td>15485843</td>\n",
       "      <td>6</td>\n",
       "    </tr>\n",
       "    <tr>\n",
       "      <th>999998</th>\n",
       "      <td>15485849</td>\n",
       "      <td>6</td>\n",
       "    </tr>\n",
       "    <tr>\n",
       "      <th>999999</th>\n",
       "      <td>15485857</td>\n",
       "      <td>8</td>\n",
       "    </tr>\n",
       "  </tbody>\n",
       "</table>\n",
       "<p>999999 rows × 2 columns</p>\n",
       "</div>"
      ],
      "text/plain": [
       "             Num  Interval\n",
       "Rank                      \n",
       "1              2         2\n",
       "2              3         1\n",
       "3              5         2\n",
       "4              7         2\n",
       "5             11         4\n",
       "...          ...       ...\n",
       "999995  15485807         6\n",
       "999996  15485837        30\n",
       "999997  15485843         6\n",
       "999998  15485849         6\n",
       "999999  15485857         8\n",
       "\n",
       "[999999 rows x 2 columns]"
      ]
     },
     "execution_count": 2,
     "metadata": {},
     "output_type": "execute_result"
    }
   ],
   "source": [
    "# ---- Reading Dataset and Overviewing It ----\n",
    "df = pd.read_csv(PRIME_NUMBERS_FILE_PATH_CSV, index_col=['Rank'])\n",
    "\n",
    "print(f'# of Observations: {df.shape[0]}')\n",
    "print(f'# of Features: {df.shape[1]} ({df.columns})')\n",
    "print('----')\n",
    "df"
   ]
  },
  {
   "cell_type": "code",
   "execution_count": 3,
   "id": "c07eff93-fb69-4776-b683-a4b7d6e5d749",
   "metadata": {},
   "outputs": [
    {
     "data": {
      "text/plain": [
       "Num         int64\n",
       "Interval    int64\n",
       "dtype: object"
      ]
     },
     "execution_count": 3,
     "metadata": {},
     "output_type": "execute_result"
    }
   ],
   "source": [
    "# ---- Checking Data Types ----\n",
    "#\n",
    "# - all features must be considered int64\n",
    "#\n",
    "df.dtypes"
   ]
  },
  {
   "cell_type": "code",
   "execution_count": 4,
   "id": "90b51cdd-c25d-4910-9a96-38bf875a0e27",
   "metadata": {},
   "outputs": [
    {
     "data": {
      "text/plain": [
       "Num         0\n",
       "Interval    0\n",
       "dtype: int64"
      ]
     },
     "execution_count": 4,
     "metadata": {},
     "output_type": "execute_result"
    }
   ],
   "source": [
    "# ---- Checking for Missing Values ----\n",
    "df.isnull().sum()"
   ]
  },
  {
   "cell_type": "code",
   "execution_count": 5,
   "id": "feebbfc1-aa5d-4116-8e5d-a8ed41708340",
   "metadata": {},
   "outputs": [
    {
     "name": "stdout",
     "output_type": "stream",
     "text": [
      "Are there duplicated values? False\n"
     ]
    },
    {
     "data": {
      "text/html": [
       "<div>\n",
       "<style scoped>\n",
       "    .dataframe tbody tr th:only-of-type {\n",
       "        vertical-align: middle;\n",
       "    }\n",
       "\n",
       "    .dataframe tbody tr th {\n",
       "        vertical-align: top;\n",
       "    }\n",
       "\n",
       "    .dataframe thead th {\n",
       "        text-align: right;\n",
       "    }\n",
       "</style>\n",
       "<table border=\"1\" class=\"dataframe\">\n",
       "  <thead>\n",
       "    <tr style=\"text-align: right;\">\n",
       "      <th></th>\n",
       "      <th>Num</th>\n",
       "      <th>Interval</th>\n",
       "    </tr>\n",
       "    <tr>\n",
       "      <th>Rank</th>\n",
       "      <th></th>\n",
       "      <th></th>\n",
       "    </tr>\n",
       "  </thead>\n",
       "  <tbody>\n",
       "  </tbody>\n",
       "</table>\n",
       "</div>"
      ],
      "text/plain": [
       "Empty DataFrame\n",
       "Columns: [Num, Interval]\n",
       "Index: []"
      ]
     },
     "execution_count": 5,
     "metadata": {},
     "output_type": "execute_result"
    }
   ],
   "source": [
    "# ---- Checking out for Duplicated Values ----\n",
    "#\n",
    "# - since 'Interval' features measures the gap between the current prime number and the previous one,\n",
    "# there's no problem in this feature having duplicated values\n",
    "#\n",
    "# - however, we don't wanna consider the same number (Feature 'Num') twice, so we will be checking\n",
    "# for ANY duplicated values in it\n",
    "#\n",
    "#    \\ False: there no duplicated values\n",
    "#    \\ True: there are duplicated values\n",
    "#\n",
    "are_there_duplicated_values = df.duplicated('Num').any()\n",
    "duplicated_values = df[df.duplicated('Num')]\n",
    "\n",
    "print(f'Are there duplicated values? {are_there_duplicated_values}')\n",
    "duplicated_values"
   ]
  },
  {
   "cell_type": "markdown",
   "id": "2b32effa-de15-40e4-a2ea-69efc9edbb8d",
   "metadata": {},
   "source": [
    "Nice!! It looks like our dataset is quite perfect formatted, without containing missing and duplicated values! Thank you *Michael M. Ross*! Now, let's head straight to the funny part: `Statistic Analysis`!"
   ]
  },
  {
   "cell_type": "markdown",
   "id": "07d0ee07-6471-463f-b9d3-8288c67c93fa",
   "metadata": {},
   "source": [
    "----\n",
    "\n",
    "<h2 id=\"statistic-analysis\">🔍 Statistic Analysis</h2>"
   ]
  },
  {
   "cell_type": "code",
   "execution_count": 6,
   "id": "8f2f9477-becc-494b-af45-48e1141f0699",
   "metadata": {},
   "outputs": [
    {
     "data": {
      "image/png": "[encoded data removed]",
      "text/plain": [
       "<Figure size 640x480 with 2 Axes>"
      ]
     },
     "metadata": {},
     "output_type": "display_data"
    }
   ],
   "source": [
    "# ---- Distribution Plots ----\n",
    "#\n",
    "# - Frequence Distribution of Each Feature\n",
    "#\n",
    "df.hist(bins=15);"
   ]
  },
  {
   "cell_type": "markdown",
   "id": "abe22123-aac6-44fe-b074-9696433d5bc0",
   "metadata": {},
   "source": [
    "> **Num Distribution** - right-skewed distribution, indicating that the amount of number primes into a interval decreases as higher are the interval boundaries. So we can say that we can find more prime numbers in a range from `1 to 0.5 million` than a range from `0.5 million to 1.0 million`;\n",
    "\n",
    "> **Interval Distribution** - right-skewed distribution, indicating that the gap between each prime number is not too large. So we can say that the number primes are closer to each other rather than being distant."
   ]
  },
  {
   "cell_type": "code",
   "execution_count": 7,
   "id": "651c4b5f-c893-49f5-8016-68402cc01d6e",
   "metadata": {},
   "outputs": [
    {
     "data": {
      "image/png": "[encoded data removed]",
      "text/plain": [
       "<Figure size 640x480 with 1 Axes>"
      ]
     },
     "metadata": {},
     "output_type": "display_data"
    }
   ],
   "source": [
    "# ---- Box Plot ----\n",
    "#\n",
    "# - Spreadness of Each Feature\n",
    "#\n",
    "df.boxplot('Num');"
   ]
  },
  {
   "cell_type": "code",
   "execution_count": 8,
   "id": "7e1cf836-48e4-486c-9791-de45cf3df537",
   "metadata": {},
   "outputs": [
    {
     "data": {
      "image/png": "[encoded data removed]",
      "text/plain": [
       "<Figure size 640x480 with 1 Axes>"
      ]
     },
     "metadata": {},
     "output_type": "display_data"
    }
   ],
   "source": [
    "df.boxplot('Interval');"
   ]
  },
  {
   "cell_type": "markdown",
   "id": "c3c449b4-7b4b-429d-b07a-dfc2ea71f393",
   "metadata": {},
   "source": [
    "> **Num Box-Plot** - there are no visual outliers, the range goes from 0 to 1.5 million and 50% of prime numbers falls into 0.4 and 1.1 million range;\n",
    "\n",
    "> **Interval Box-Plot** - there are several visual outliers being all values greater than 40, the range goes from 0 to 150 and 50% of intervals between prime numbers falls into 5 and 20 range."
   ]
  },
  {
   "cell_type": "code",
   "execution_count": 9,
   "id": "7fc85f45-7a1d-4f2e-843f-bcb63330744f",
   "metadata": {},
   "outputs": [
    {
     "data": {
      "text/html": [
       "<div>\n",
       "<style scoped>\n",
       "    .dataframe tbody tr th:only-of-type {\n",
       "        vertical-align: middle;\n",
       "    }\n",
       "\n",
       "    .dataframe tbody tr th {\n",
       "        vertical-align: top;\n",
       "    }\n",
       "\n",
       "    .dataframe thead th {\n",
       "        text-align: right;\n",
       "    }\n",
       "</style>\n",
       "<table border=\"1\" class=\"dataframe\">\n",
       "  <thead>\n",
       "    <tr style=\"text-align: right;\">\n",
       "      <th></th>\n",
       "      <th>Num</th>\n",
       "      <th>Interval</th>\n",
       "    </tr>\n",
       "  </thead>\n",
       "  <tbody>\n",
       "    <tr>\n",
       "      <th>count</th>\n",
       "      <td>9.999990e+05</td>\n",
       "      <td>999999.000000</td>\n",
       "    </tr>\n",
       "    <tr>\n",
       "      <th>mean</th>\n",
       "      <td>7.472959e+06</td>\n",
       "      <td>15.485872</td>\n",
       "    </tr>\n",
       "    <tr>\n",
       "      <th>sem</th>\n",
       "      <td>4.523194e+03</td>\n",
       "      <td>0.012982</td>\n",
       "    </tr>\n",
       "    <tr>\n",
       "      <th>var</th>\n",
       "      <td>2.045926e+13</td>\n",
       "      <td>168.525211</td>\n",
       "    </tr>\n",
       "    <tr>\n",
       "      <th>std</th>\n",
       "      <td>4.523191e+06</td>\n",
       "      <td>12.981726</td>\n",
       "    </tr>\n",
       "    <tr>\n",
       "      <th>median</th>\n",
       "      <td>7.368787e+06</td>\n",
       "      <td>12.000000</td>\n",
       "    </tr>\n",
       "    <tr>\n",
       "      <th>mad</th>\n",
       "      <td>3.923997e+06</td>\n",
       "      <td>9.732356</td>\n",
       "    </tr>\n",
       "    <tr>\n",
       "      <th>min</th>\n",
       "      <td>2.000000e+00</td>\n",
       "      <td>1.000000</td>\n",
       "    </tr>\n",
       "    <tr>\n",
       "      <th>25%</th>\n",
       "      <td>3.497864e+06</td>\n",
       "      <td>6.000000</td>\n",
       "    </tr>\n",
       "    <tr>\n",
       "      <th>50%</th>\n",
       "      <td>7.368787e+06</td>\n",
       "      <td>12.000000</td>\n",
       "    </tr>\n",
       "    <tr>\n",
       "      <th>75%</th>\n",
       "      <td>1.138161e+07</td>\n",
       "      <td>20.000000</td>\n",
       "    </tr>\n",
       "    <tr>\n",
       "      <th>max</th>\n",
       "      <td>1.548586e+07</td>\n",
       "      <td>154.000000</td>\n",
       "    </tr>\n",
       "    <tr>\n",
       "      <th>skew</th>\n",
       "      <td>5.867023e-02</td>\n",
       "      <td>1.813759</td>\n",
       "    </tr>\n",
       "    <tr>\n",
       "      <th>kurt</th>\n",
       "      <td>-1.213029e+00</td>\n",
       "      <td>4.910619</td>\n",
       "    </tr>\n",
       "  </tbody>\n",
       "</table>\n",
       "</div>"
      ],
      "text/plain": [
       "                 Num       Interval\n",
       "count   9.999990e+05  999999.000000\n",
       "mean    7.472959e+06      15.485872\n",
       "sem     4.523194e+03       0.012982\n",
       "var     2.045926e+13     168.525211\n",
       "std     4.523191e+06      12.981726\n",
       "median  7.368787e+06      12.000000\n",
       "mad     3.923997e+06       9.732356\n",
       "min     2.000000e+00       1.000000\n",
       "25%     3.497864e+06       6.000000\n",
       "50%     7.368787e+06      12.000000\n",
       "75%     1.138161e+07      20.000000\n",
       "max     1.548586e+07     154.000000\n",
       "skew    5.867023e-02       1.813759\n",
       "kurt   -1.213029e+00       4.910619"
      ]
     },
     "execution_count": 9,
     "metadata": {},
     "output_type": "execute_result"
    }
   ],
   "source": [
    "# ---- Statistic Overview ----\n",
    "def describe(df, stats):\n",
    "    \"\"\"\n",
    "    Add statistics metrics to a DataFrame. Mean Absolute Deviation (MAD) is always added.\n",
    "    \n",
    "    Since the function 'mad' will become deprecated in the next pandas versions, MAD must be \n",
    "calculated manually.\n",
    "    \"\"\"\n",
    "    \n",
    "    # ---- Calculating the Common Describe ----\n",
    "    common_describe = df.describe()\n",
    "    \n",
    "    # ---- Calculating Mean Absolute Deviation (MAD) ----\n",
    "    mad_describe = lambda df: pd.DataFrame((df - df.mean()).abs().mean()).T.set_index(pd.Index(['mad']))\n",
    "    mad_df = mad_describe(df)\n",
    "    \n",
    "    # ---- Calculating Other Statistics ----\n",
    "    stats_df = df.reindex(df.columns, axis=1).agg(stats)\n",
    "    \n",
    "    # ---- Concatenating the Results ----\n",
    "    return pd.concat([common_describe, mad_df, stats_df]).reindex(['count', 'mean', 'sem', 'var', 'std',  'median', 'mad', 'min',  '25%', '50%', '75%',  'max', 'skew',  'kurt'])\n",
    "\n",
    "statistical_df = describe(df, ['median', 'var', 'skew', 'kurt', 'sem'])\n",
    "statistical_df"
   ]
  },
  {
   "cell_type": "code",
   "execution_count": 10,
   "id": "e11da9aa-a51a-4b0c-9711-a16c1ab93867",
   "metadata": {},
   "outputs": [
    {
     "data": {
      "text/plain": [
       "0    6\n",
       "Name: Interval, dtype: int64"
      ]
     },
     "execution_count": 10,
     "metadata": {},
     "output_type": "execute_result"
    }
   ],
   "source": [
    "df['Interval'].mode()"
   ]
  },
  {
   "cell_type": "markdown",
   "id": "85b1994a-1be9-4634-96d0-de95ad576cbd",
   "metadata": {},
   "source": [
    "Here are what we can conclude with these info:\n",
    "\n",
    "> **Interval Mode** - the more common gap between prime numbers is `6 numbers`, indicating that many prime numbers are often found near multiples of 6. This info has been already discovered, is called `Euler's 6n + 1 Theorem` and it's equation is given as below:\n",
    "\n",
    "$$6n \\pm 1$$\n",
    "\n",
    "However, even though this equation working out for the majority of prime numbers, it has already been proved to don't work in all cases where it tells that non-primes are primes and primes are non-primes.\n",
    "\n",
    "----\n",
    "\n",
    "> **Num Spreadness - STD vs MAD** - the *Standard Deviation (std)* and the *Mean Absolute Deviation (MAD)* are given as `4.523191e+06` and `3.923997e+06` respectively, being `5.992194e+05` the difference between them. Considering that the numbers are infinite and that this dataset contains numbers in a range from 1 to 1.5 million, we can conclude that the datas are not so spread in order to have outliers.\n",
    "\n",
    "> **Num Mean VS Median** - since the difference between the mean and median is not so large to this dataset, `1.041720e+05`, we can use `Mean and STD` rather than `Median and MAD`;\n",
    "\n",
    "> **Num Skew** - being equals to `5.867023e-02 (0.05..)` and distant from 1, we can conclude that the distribution is not so skewed. We can realize that looking at its previous distribution plot, where we can notice a skewed curve in the beginning and almost a straight line in the middle to the end;\n",
    "\n",
    "> **Num Kurt** - being equals to `-1.213029e+00 (-1.21...)` and smaller than 0, we can conclude that the datas are more centered rather than spread over the distribution tail."
   ]
  },
  {
   "cell_type": "code",
   "execution_count": 11,
   "id": "16259e75-a334-4720-b458-4ed054c0725a",
   "metadata": {},
   "outputs": [
    {
     "data": {
      "text/html": [
       "<div>\n",
       "<style scoped>\n",
       "    .dataframe tbody tr th:only-of-type {\n",
       "        vertical-align: middle;\n",
       "    }\n",
       "\n",
       "    .dataframe tbody tr th {\n",
       "        vertical-align: top;\n",
       "    }\n",
       "\n",
       "    .dataframe thead th {\n",
       "        text-align: right;\n",
       "    }\n",
       "</style>\n",
       "<table border=\"1\" class=\"dataframe\">\n",
       "  <thead>\n",
       "    <tr style=\"text-align: right;\">\n",
       "      <th></th>\n",
       "      <th>Num</th>\n",
       "      <th>Interval</th>\n",
       "    </tr>\n",
       "  </thead>\n",
       "  <tbody>\n",
       "    <tr>\n",
       "      <th>Num</th>\n",
       "      <td>1.000000</td>\n",
       "      <td>0.071202</td>\n",
       "    </tr>\n",
       "    <tr>\n",
       "      <th>Interval</th>\n",
       "      <td>0.071202</td>\n",
       "      <td>1.000000</td>\n",
       "    </tr>\n",
       "  </tbody>\n",
       "</table>\n",
       "</div>"
      ],
      "text/plain": [
       "               Num  Interval\n",
       "Num       1.000000  0.071202\n",
       "Interval  0.071202  1.000000"
      ]
     },
     "execution_count": 11,
     "metadata": {},
     "output_type": "execute_result"
    }
   ],
   "source": [
    "# ---- Correlation ----\n",
    "df.corr()"
   ]
  },
  {
   "cell_type": "markdown",
   "id": "37a91ebd-32bf-4a1b-9fc7-8d32aee04528",
   "metadata": {},
   "source": [
    "Let's examine the correlation between Num and Interval Features. The correlation coefficient between these features is `0.071`. Since this value is significantly distant from 1, we can conclude that both features are not strongly correlated.\n",
    "\n",
    "----\n",
    "\n",
    "To wrap up the Statistical Analysis step, we can take three tests. The first one is a `One Sample T-Test` to check out if the dataset's mean differs from the population mean and conclude if all previous statistics are applied to the population or just to the sample. However, since we can't have the population's mean, we will discard this test and continue the analysis inferring that the previous statistics are applied to the dataset only.\n",
    "\n",
    "The second is a `Two Sample T-Test` in order to check out if the difference of means from Num and Interval Features means has happened randomly.\n",
    "\n",
    "The third one is the `Pearson's Correlation Test` to enforce our Hypothesis that Num and Interval Features are not strongly correlated. \n",
    "\n",
    "These last two tests are possible to be implemented here, so we will be taking them right now! For the tests, consider:\n",
    "\n",
    "> **Confidence Level** - `95% (0.95)`;\n",
    "\n",
    "> **Significance Level** - `5% (0.05)`;\n",
    "\n",
    "> **Target P-Value to Reject the Null Hypothesis** - `smaller than or equals 0.05`."
   ]
  },
  {
   "cell_type": "code",
   "execution_count": 28,
   "id": "4335e2c0-a919-4538-a423-b608c5561b8e",
   "metadata": {},
   "outputs": [
    {
     "name": "stdout",
     "output_type": "stream",
     "text": [
      "P Value: 0.0\n"
     ]
    }
   ],
   "source": [
    "# ---- Two Sample T-Test ----\n",
    "#\n",
    "# - Null Hypothesis (H0) > 'Num' and 'Interval' Features Means differs randomly;\n",
    "#\n",
    "# - Alternative Hypothesis (H1) > 'Num' and 'Interval' Features Means does not differ randomly, so there is an explanation behind it,\n",
    "# such as Riemann Hypothesis and Euler's 6n + 1 Theorem.\n",
    "#\n",
    "a = df['Num']\n",
    "b = df['Interval']\n",
    "\n",
    "ttest_t_statistic, ttest_p_value = stats.ttest_ind(\n",
    "    a=a                 # feature 1\n",
    "    , b=b               # feature 2\n",
    "    , equal_var=False   # assumes that features have the same variance\n",
    "    , random_state=SEED\n",
    ")\n",
    "\n",
    "print(f'P Value: {ttest_p_value}')"
   ]
  },
  {
   "cell_type": "code",
   "execution_count": 29,
   "id": "8c9e7ce5-d88b-4865-bef0-692222f6b8bd",
   "metadata": {},
   "outputs": [
    {
     "name": "stdout",
     "output_type": "stream",
     "text": [
      "P Value: 0.0\n"
     ]
    }
   ],
   "source": [
    "# ---- pearson's Correlation Test ----\n",
    "#\n",
    "# - Null Hypothesis (H0) > 'Num' and 'Interval' Features are not correlated;\n",
    "#\n",
    "# - Alternative Hypothesis (H1) > 'Num' and 'Interval' Features are correlated.\n",
    "#\n",
    "pearson_t_statistic, pearson_p_value = stats.pearsonr(df['Num'], df['Interval'])\n",
    "\n",
    "print(f'P Value: {pearson_p_value}')"
   ]
  },
  {
   "cell_type": "code",
   "execution_count": null,
   "id": "c57c3ef3-ee59-44bc-9dd5-d25d11d4dc89",
   "metadata": {},
   "outputs": [],
   "source": []
  }
 ],
 "metadata": {
  "kernelspec": {
   "display_name": "Python 3 (ipykernel)",
   "language": "python",
   "name": "python3"
  },
  "language_info": {
   "codemirror_mode": {
    "name": "ipython",
    "version": 3
   },
   "file_extension": ".py",
   "mimetype": "text/x-python",
   "name": "python",
   "nbconvert_exporter": "python",
   "pygments_lexer": "ipython3",
   "version": "3.10.9"
  }
 },
 "nbformat": 4,
 "nbformat_minor": 5
}
